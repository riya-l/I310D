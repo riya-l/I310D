{
 "cells": [
  {
   "cell_type": "markdown",
   "id": "c4d6af19",
   "metadata": {},
   "source": [
    "# import beautifulsoup and pandas to use for data curation and analysis"
   ]
  },
  {
   "cell_type": "code",
   "execution_count": 12,
   "id": "b5b7f6e0",
   "metadata": {},
   "outputs": [
    {
     "name": "stdout",
     "output_type": "stream",
     "text": [
      "Imported all libraries successfully...\n"
     ]
    }
   ],
   "source": [
    "try:\n",
    "    import pandas as pd\n",
    "    import numpy as np\n",
    "    import scipy\n",
    "    from matplotlib import pyplot as plt\n",
    "    print (\"Imported all libraries successfully...\")\n",
    "except:\n",
    "    import sys\n",
    "    !conda install --yes --prefix {sys.prefix} numpy\n",
    "    !conda install --yes --prefix {sys.prefix} pandas\n",
    "    !conda install --yes --prefix {sys.prefix} matplotlib\n",
    "    !conda install --yes --prefix {sys.prefix} scipy\n",
    "    print (\"Some libraries not found, installing...\")"
   ]
  },
  {
   "cell_type": "markdown",
   "id": "3640d2ad",
   "metadata": {},
   "source": [
    "# read the csv file to make sure it is grabbing data from the correct place"
   ]
  },
  {
   "cell_type": "code",
   "execution_count": 13,
   "id": "49137f30",
   "metadata": {},
   "outputs": [
    {
     "name": "stdout",
     "output_type": "stream",
     "text": [
      "<class 'pandas.core.frame.DataFrame'>\n",
      "RangeIndex: 163123 entries, 0 to 163122\n",
      "Data columns (total 13 columns):\n",
      " #   Column            Non-Null Count   Dtype  \n",
      "---  ------            --------------   -----  \n",
      " 0   Month             163123 non-null  object \n",
      " 1   Cycle             163123 non-null  object \n",
      " 2   Borough           163123 non-null  int64  \n",
      " 3   Block             163123 non-null  int64  \n",
      " 4   Lot               163123 non-null  int64  \n",
      " 5   Tax Class Code    163123 non-null  int64  \n",
      " 6   Building Class    163122 non-null  object \n",
      " 7   Community Board   162145 non-null  float64\n",
      " 8   Council District  162219 non-null  float64\n",
      " 9   House Number      155473 non-null  object \n",
      " 10  Street Name       162918 non-null  object \n",
      " 11  Zip Code          157382 non-null  float64\n",
      " 12  Water Debt Only   163123 non-null  object \n",
      "dtypes: float64(3), int64(4), object(6)\n",
      "memory usage: 16.2+ MB\n"
     ]
    }
   ],
   "source": [
    "from IPython.core.interactiveshell import InteractiveShell\n",
    "InteractiveShell.ast_node_interactivity = \"all\"\n",
    "\n",
    "tax_df = pd.read_csv(\"Tax_Lien_Sale_Lists.csv\")\n",
    "\n",
    "tax_df.info()"
   ]
  },
  {
   "cell_type": "markdown",
   "id": "98279422",
   "metadata": {},
   "source": [
    "# printing out a few rows just to double check"
   ]
  },
  {
   "cell_type": "code",
   "execution_count": 14,
   "id": "f5624e89",
   "metadata": {},
   "outputs": [
    {
     "data": {
      "text/html": [
       "<div>\n",
       "<style scoped>\n",
       "    .dataframe tbody tr th:only-of-type {\n",
       "        vertical-align: middle;\n",
       "    }\n",
       "\n",
       "    .dataframe tbody tr th {\n",
       "        vertical-align: top;\n",
       "    }\n",
       "\n",
       "    .dataframe thead th {\n",
       "        text-align: right;\n",
       "    }\n",
       "</style>\n",
       "<table border=\"1\" class=\"dataframe\">\n",
       "  <thead>\n",
       "    <tr style=\"text-align: right;\">\n",
       "      <th></th>\n",
       "      <th>Month</th>\n",
       "      <th>Cycle</th>\n",
       "      <th>Borough</th>\n",
       "      <th>Block</th>\n",
       "      <th>Lot</th>\n",
       "      <th>Tax Class Code</th>\n",
       "      <th>Building Class</th>\n",
       "      <th>Community Board</th>\n",
       "      <th>Council District</th>\n",
       "      <th>House Number</th>\n",
       "      <th>Street Name</th>\n",
       "      <th>Zip Code</th>\n",
       "      <th>Water Debt Only</th>\n",
       "    </tr>\n",
       "  </thead>\n",
       "  <tbody>\n",
       "    <tr>\n",
       "      <th>0</th>\n",
       "      <td>04/2019</td>\n",
       "      <td>90 Day Notice</td>\n",
       "      <td>1</td>\n",
       "      <td>16</td>\n",
       "      <td>3</td>\n",
       "      <td>4</td>\n",
       "      <td>Z9</td>\n",
       "      <td>101.0</td>\n",
       "      <td>1.0</td>\n",
       "      <td>401</td>\n",
       "      <td>SOUTH END AVENUE</td>\n",
       "      <td>10280.0</td>\n",
       "      <td>NO</td>\n",
       "    </tr>\n",
       "    <tr>\n",
       "      <th>1</th>\n",
       "      <td>04/2019</td>\n",
       "      <td>90 Day Notice</td>\n",
       "      <td>1</td>\n",
       "      <td>17</td>\n",
       "      <td>1213</td>\n",
       "      <td>4</td>\n",
       "      <td>RB</td>\n",
       "      <td>101.0</td>\n",
       "      <td>NaN</td>\n",
       "      <td>50</td>\n",
       "      <td>WEST STREET</td>\n",
       "      <td>10006.0</td>\n",
       "      <td>NO</td>\n",
       "    </tr>\n",
       "    <tr>\n",
       "      <th>2</th>\n",
       "      <td>04/2019</td>\n",
       "      <td>90 Day Notice</td>\n",
       "      <td>1</td>\n",
       "      <td>17</td>\n",
       "      <td>1215</td>\n",
       "      <td>4</td>\n",
       "      <td>RB</td>\n",
       "      <td>101.0</td>\n",
       "      <td>NaN</td>\n",
       "      <td>50</td>\n",
       "      <td>WEST STREET</td>\n",
       "      <td>10006.0</td>\n",
       "      <td>NO</td>\n",
       "    </tr>\n",
       "    <tr>\n",
       "      <th>3</th>\n",
       "      <td>04/2019</td>\n",
       "      <td>90 Day Notice</td>\n",
       "      <td>1</td>\n",
       "      <td>18</td>\n",
       "      <td>1073</td>\n",
       "      <td>2</td>\n",
       "      <td>R4</td>\n",
       "      <td>101.0</td>\n",
       "      <td>1.0</td>\n",
       "      <td>88</td>\n",
       "      <td>GREENWICH STREET</td>\n",
       "      <td>10006.0</td>\n",
       "      <td>NO</td>\n",
       "    </tr>\n",
       "    <tr>\n",
       "      <th>4</th>\n",
       "      <td>04/2019</td>\n",
       "      <td>90 Day Notice</td>\n",
       "      <td>1</td>\n",
       "      <td>18</td>\n",
       "      <td>1270</td>\n",
       "      <td>2</td>\n",
       "      <td>R4</td>\n",
       "      <td>101.0</td>\n",
       "      <td>1.0</td>\n",
       "      <td>88</td>\n",
       "      <td>GREENWICH STREET</td>\n",
       "      <td>10006.0</td>\n",
       "      <td>NO</td>\n",
       "    </tr>\n",
       "  </tbody>\n",
       "</table>\n",
       "</div>"
      ],
      "text/plain": [
       "     Month          Cycle  Borough  Block    Lot  Tax Class Code  \\\n",
       "0  04/2019  90 Day Notice        1      16     3               4   \n",
       "1  04/2019  90 Day Notice        1      17  1213               4   \n",
       "2  04/2019  90 Day Notice        1      17  1215               4   \n",
       "3  04/2019  90 Day Notice        1      18  1073               2   \n",
       "4  04/2019  90 Day Notice        1      18  1270               2   \n",
       "\n",
       "  Building Class  Community Board  Council District House Number  \\\n",
       "0             Z9            101.0               1.0          401   \n",
       "1             RB            101.0               NaN           50   \n",
       "2             RB            101.0               NaN           50   \n",
       "3             R4            101.0               1.0           88   \n",
       "4             R4            101.0               1.0           88   \n",
       "\n",
       "        Street Name  Zip Code Water Debt Only  \n",
       "0  SOUTH END AVENUE   10280.0              NO  \n",
       "1       WEST STREET   10006.0              NO  \n",
       "2       WEST STREET   10006.0              NO  \n",
       "3  GREENWICH STREET   10006.0              NO  \n",
       "4  GREENWICH STREET   10006.0              NO  "
      ]
     },
     "execution_count": 14,
     "metadata": {},
     "output_type": "execute_result"
    }
   ],
   "source": [
    "tax_df.head()"
   ]
  },
  {
   "cell_type": "markdown",
   "id": "cd070f87",
   "metadata": {},
   "source": [
    "# i will specifically look at the Tax Class Code so extract that from the data"
   ]
  },
  {
   "cell_type": "code",
   "execution_count": 15,
   "id": "ce36f049",
   "metadata": {},
   "outputs": [
    {
     "name": "stdout",
     "output_type": "stream",
     "text": [
      "Index(['Month', 'Cycle', 'Borough', 'Block ', 'Lot', 'Tax Class Code',\n",
      "       'Building Class', 'Community Board', 'Council District', 'House Number',\n",
      "       'Street Name', 'Zip Code', 'Water Debt Only'],\n",
      "      dtype='object')\n",
      "0         4\n",
      "1         4\n",
      "2         4\n",
      "3         2\n",
      "4         2\n",
      "         ..\n",
      "163118    4\n",
      "163119    4\n",
      "163120    1\n",
      "163121    1\n",
      "163122    1\n",
      "Name: Tax Class Code, Length: 163123, dtype: int64\n"
     ]
    }
   ],
   "source": [
    "column_names = tax_df.columns\n",
    "print (column_names)\n",
    "\n",
    "tax_class_code = tax_df[\"Tax Class Code\"]\n",
    "print (tax_class_code)"
   ]
  },
  {
   "cell_type": "markdown",
   "id": "170f9880",
   "metadata": {},
   "source": [
    "# get the basic statistical analysis of the data of Tax Class Code"
   ]
  },
  {
   "cell_type": "code",
   "execution_count": 16,
   "id": "30055d30",
   "metadata": {},
   "outputs": [
    {
     "data": {
      "text/plain": [
       "count    163123.000000\n",
       "mean          2.004389\n",
       "std           1.236873\n",
       "min           1.000000\n",
       "25%           1.000000\n",
       "50%           1.000000\n",
       "75%           4.000000\n",
       "max           4.000000\n",
       "Name: Tax Class Code, dtype: float64"
      ]
     },
     "execution_count": 16,
     "metadata": {},
     "output_type": "execute_result"
    }
   ],
   "source": [
    "tax_class_code.describe()"
   ]
  },
  {
   "cell_type": "markdown",
   "id": "4caadd4e",
   "metadata": {},
   "source": [
    "# create a histogram to show the frequency of each class code"
   ]
  },
  {
   "cell_type": "code",
   "execution_count": 23,
   "id": "8b6c21dc",
   "metadata": {},
   "outputs": [
    {
     "data": {
      "text/plain": [
       "<AxesSubplot:>"
      ]
     },
     "execution_count": 23,
     "metadata": {},
     "output_type": "execute_result"
    },
    {
     "data": {
      "text/plain": [
       "Text(0.5, 1.0, 'Tax Class Code Frequencies')"
      ]
     },
     "execution_count": 23,
     "metadata": {},
     "output_type": "execute_result"
    },
    {
     "data": {
      "text/plain": [
       "Text(0.5, 0, 'Tax Class Code Values')"
      ]
     },
     "execution_count": 23,
     "metadata": {},
     "output_type": "execute_result"
    },
    {
     "data": {
      "text/plain": [
       "Text(0, 0.5, 'Number of times for each Tax Class Code value')"
      ]
     },
     "execution_count": 23,
     "metadata": {},
     "output_type": "execute_result"
    },
    {
     "data": {
      "image/png": "[encoded data removed]",
      "text/plain": [
       "<Figure size 640x480 with 1 Axes>"
      ]
     },
     "metadata": {},
     "output_type": "display_data"
    }
   ],
   "source": [
    "tax_class_code.hist(bins=10)\n",
    "plt.title('Tax Class Code Frequencies')\n",
    "plt.xlabel('Tax Class Code Values')\n",
    "plt.ylabel('Number of times for each Tax Class Code value')"
   ]
  }
 ],
 "metadata": {
  "kernelspec": {
   "display_name": "Python 3 (ipykernel)",
   "language": "python",
   "name": "python3"
  },
  "language_info": {
   "codemirror_mode": {
    "name": "ipython",
    "version": 3
   },
   "file_extension": ".py",
   "mimetype": "text/x-python",
   "name": "python",
   "nbconvert_exporter": "python",
   "pygments_lexer": "ipython3",
   "version": "3.9.13"
  }
 },
 "nbformat": 4,
 "nbformat_minor": 5
}
